{
 "cells": [
  {
   "cell_type": "code",
   "id": "initial_id",
   "metadata": {
    "collapsed": true,
    "ExecuteTime": {
     "end_time": "2025-01-17T12:06:59.814298Z",
     "start_time": "2025-01-17T12:06:58.343858Z"
    }
   },
   "source": [
    "import numpy as np\n",
    "import torch\n",
    "from tqdm import tqdm\n",
    "\n",
    "from scripts.tof import time_of_flight\n",
    "from utils.data import *\n",
    "from utils.losses import (\n",
    "    phase_error,\n",
    "    total_variation,\n",
    ")\n",
    "\n",
    "torch.backends.cudnn.deterministic = False\n",
    "torch.backends.cudnn.benchmark = True\n",
    "from torch.utils import data\n",
    "from scripts.inr import Model"
   ],
   "outputs": [],
   "execution_count": 1
  },
  {
   "metadata": {
    "ExecuteTime": {
     "end_time": "2025-01-17T12:06:59.825290Z",
     "start_time": "2025-01-17T12:06:59.822316Z"
    }
   },
   "cell_type": "code",
   "source": [
    "device = \"cuda\" if torch.cuda.is_available() else \"cpu\"\n",
    "loss_name = \"pe\"\n",
    "sample = \"inclusion\""
   ],
   "id": "489cab5e5f079f0e",
   "outputs": [],
   "execution_count": 2
  },
  {
   "metadata": {
    "ExecuteTime": {
     "end_time": "2025-01-17T12:07:00.117031Z",
     "start_time": "2025-01-17T12:06:59.828295Z"
    }
   },
   "cell_type": "code",
   "source": [
    "# Get IQ data, time zeros, sampling and demodulation frequency, and element positions\n",
    "iqdata, t0, fs, fd, elpos, _, _ = load_dataset(sample)\n",
    "xe, _, ze = np.array(elpos)\n",
    "iqdata = torch.tensor(iqdata, device=device)\n",
    "xe = torch.tensor(xe, device=device)\n",
    "ze = torch.tensor(ze, device=device)\n",
    "t0 = torch.tensor(t0, device=device)\n",
    "wl0 = ASSUMED_C / fd  # wavelength (λ)\n",
    "\n",
    "# Sound speed grid dimensions\n",
    "xc = torch.linspace(SOUND_SPEED_X_MIN, SOUND_SPEED_X_MAX, SOUND_SPEED_NXC, device=device)\n",
    "zc = torch.linspace(SOUND_SPEED_Z_MIN, SOUND_SPEED_Z_MAX, SOUND_SPEED_NZC, device=device)\n",
    "dxc, dzc = xc[1] - xc[0], zc[1] - zc[0]\n",
    "\n",
    "# Kernels to use for loss calculations (2λ x 2λ patches)\n",
    "xk, zk = torch.meshgrid((torch.arange(NXK) - (NXK - 1) / 2) * wl0 / 2,\n",
    "                        (torch.arange(NZK) - (NZK - 1) / 2) * wl0 / 2, indexing=\"ij\")\n",
    "xk, zk = xk.to(device), zk.to(device)\n",
    "\n",
    "# Kernel patch centers, distributed throughout the field of view\n",
    "xpc, zpc = torch.meshgrid(torch.linspace(PHASE_ERROR_X_MIN, PHASE_ERROR_X_MAX, NXP),\n",
    "                          torch.linspace(PHASE_ERROR_Z_MIN, PHASE_ERROR_Z_MAX, NZP), indexing=\"ij\")\n",
    "xpc, zpc = xpc.to(device), zpc.to(device)\n",
    "\n",
    "# Explicit broadcasting. Dimensions will be [elements, pixels, patches]\n",
    "xe = torch.reshape(xe, (-1, 1, 1))\n",
    "ze = torch.reshape(ze, (-1, 1, 1))\n",
    "xp = torch.reshape(xpc, (1, -1, 1)) + torch.reshape(xk, (1, 1, -1))\n",
    "zp = torch.reshape(zpc, (1, -1, 1)) + torch.reshape(zk, (1, 1, -1))\n",
    "xp = xp + 0 * zp  # Manual broadcasting\n",
    "zp = zp + 0 * xp  # Manual broadcasting"
   ],
   "id": "79f65e6676e14e4a",
   "outputs": [],
   "execution_count": 3
  },
  {
   "metadata": {
    "ExecuteTime": {
     "end_time": "2025-01-17T12:07:00.335508Z",
     "start_time": "2025-01-17T12:07:00.330840Z"
    }
   },
   "cell_type": "code",
   "source": [
    "# Compute time-of-flight for each {image, patch} pixel to each element\n",
    "def tof_patch(model):\n",
    "    return time_of_flight(xe, ze, xp, zp, model, fnum=0.5, npts=64, Dmin=3e-3)\n",
    "\n",
    "# Define loss functions\n",
    "def loss_wrapper(func, model):\n",
    "    t = tof_patch(model)\n",
    "    return func(iqdata, t - t0, t, fs, fd)\n",
    "\n",
    "def sb_lc_cf_loss(func, model):\n",
    "    return 1 - loss_wrapper(func, model)\n",
    "\n",
    "def pe_loss(model):\n",
    "    t = tof_patch(model)\n",
    "    dphi = phase_error(iqdata, t - t0, t, fs, fd)\n",
    "    valid = dphi != 0\n",
    "    dphi = torch.where(valid, dphi, torch.nan)\n",
    "    return torch.nanmean(torch.log1p(torch.square(100 * dphi)))\n",
    "\n",
    "tv = lambda c: total_variation(c) * dxc * dzc\n",
    "\n",
    "def loss(c, model):\n",
    "    if loss_name == \"sb\":  # Speckle brightness\n",
    "        return sb_lc_cf_loss(\"speckle_brightness\", model) + tv(c) * LAMBDA_TV\n",
    "    elif loss_name == \"lc\":  # Lag one coherence\n",
    "        return torch.mean(sb_lc_cf_loss(\"lag_one_coherence\", model)) + tv(c) * LAMBDA_TV\n",
    "    elif loss_name == \"cf\":  # Coherence factor\n",
    "        return torch.mean(sb_lc_cf_loss(\"coherence_factor\", model)) + tv(c) * LAMBDA_TV\n",
    "    elif loss_name == \"pe\":  # Phase error\n",
    "        return pe_loss(model) + tv(c) * LAMBDA_TV\n",
    "    else:\n",
    "        assert False"
   ],
   "id": "a9c1c2f8bc92496c",
   "outputs": [],
   "execution_count": 4
  },
  {
   "metadata": {
    "ExecuteTime": {
     "end_time": "2025-01-17T12:07:01.196023Z",
     "start_time": "2025-01-17T12:07:00.404654Z"
    }
   },
   "cell_type": "code",
   "source": [
    "# Initial survey of losses vs. global sound speed\n",
    "c = ASSUMED_C * torch.ones((SOUND_SPEED_NXC, SOUND_SPEED_NZC)).to(device)\n",
    "\n",
    "# Create the optimizer\n",
    "xcm, zcm = torch.meshgrid(xc, zc, indexing=\"ij\")\n",
    "coords = torch.stack([xcm, zcm], dim=2).reshape(-1, 2)\n",
    "dataloader = data.DataLoader(CoordDataset(coords), batch_size=256, shuffle=True)\n",
    "\n",
    "l1_loss = torch.nn.L1Loss()\n",
    "model = Model(\"./utils/config.json\", 2, 1)\n",
    "optimizer = torch.optim.Adam(params=model.parameters(), lr=0.001, amsgrad=True)\n",
    "scheduler1 = torch.optim.lr_scheduler.CosineAnnealingLR(optimizer, T_max=500)"
   ],
   "id": "e476349a4bc7e4db",
   "outputs": [],
   "execution_count": 5
  },
  {
   "metadata": {
    "ExecuteTime": {
     "end_time": "2025-01-17T08:48:03.158866Z",
     "start_time": "2025-01-17T08:47:58.037223Z"
    }
   },
   "cell_type": "code",
   "source": [
    "# Initializing Sound Speed\n",
    "with tqdm(range(1000), desc=\"Initializing Sound Speed\", unit=\"iter\") as pbar:\n",
    "    for _ in pbar:\n",
    "        model.train()\n",
    "        total_loss = 0\n",
    "        for batch_coords in dataloader:\n",
    "            batch_coords = batch_coords.to(device=device)\n",
    "            c_pre = model(batch_coords).reshape(-1, 1)\n",
    "            loss_value1 = l1_loss(c_pre, c.reshape(-1, 1)[:c_pre.shape[0]])\n",
    "            total_loss += loss_value1.item()\n",
    "            optimizer.zero_grad()\n",
    "            loss_value1.backward()\n",
    "            optimizer.step()\n",
    "        scheduler1.step()\n",
    "        pbar.set_postfix(loss=total_loss / len(dataloader), lr=optimizer.param_groups[0][\"lr\"])"
   ],
   "id": "20e75daf15b5d94a",
   "outputs": [
    {
     "name": "stderr",
     "output_type": "stream",
     "text": [
      "Initializing Sound Speed: 100%|██████████| 1000/1000 [00:05<00:00, 195.46iter/s, loss=0, lr=0.001]       \n"
     ]
    }
   ],
   "execution_count": 10
  },
  {
   "metadata": {
    "ExecuteTime": {
     "end_time": "2025-01-17T08:48:04.592643Z",
     "start_time": "2025-01-17T08:48:04.589778Z"
    }
   },
   "cell_type": "code",
   "source": [
    "for param_group in optimizer.param_groups:\n",
    "    param_group['lr'] = 0.1\n",
    "scheduler2 = torch.optim.lr_scheduler.CosineAnnealingLR(optimizer, T_max=500)"
   ],
   "id": "166de516325b0b77",
   "outputs": [],
   "execution_count": 11
  },
  {
   "metadata": {
    "ExecuteTime": {
     "end_time": "2025-01-17T08:48:12.851102Z",
     "start_time": "2025-01-17T08:48:05.546001Z"
    }
   },
   "cell_type": "code",
   "source": [
    "# Optimization Loop\n",
    "with tqdm(range(N_ITERS), desc=\"Optimization Loop\", unit=\"iter\") as pbar:\n",
    "    for _ in pbar:\n",
    "        model.train()\n",
    "        c_pre = model(coords).reshape(SOUND_SPEED_NXC, SOUND_SPEED_NZC)\n",
    "        loss_value2 = loss(c_pre, model)\n",
    "        pbar.set_postfix(loss=loss_value2.item(), lr=optimizer.param_groups[0][\"lr\"])\n",
    "        optimizer.zero_grad()\n",
    "        loss_value2.backward()\n",
    "        optimizer.step()\n",
    "        scheduler2.step()"
   ],
   "id": "8ec205d32d699990",
   "outputs": [
    {
     "name": "stderr",
     "output_type": "stream",
     "text": [
      "Optimization Loop:   1%|          | 2/301 [00:07<18:06,  3.63s/iter, loss=3.18, lr=0.1]\n"
     ]
    },
    {
     "ename": "KeyboardInterrupt",
     "evalue": "",
     "output_type": "error",
     "traceback": [
      "\u001B[1;31m---------------------------------------------------------------------------\u001B[0m",
      "\u001B[1;31mKeyboardInterrupt\u001B[0m                         Traceback (most recent call last)",
      "Cell \u001B[1;32mIn[12], line 7\u001B[0m\n\u001B[0;32m      5\u001B[0m c_pre \u001B[38;5;241m=\u001B[39m model(coords)\u001B[38;5;241m.\u001B[39mreshape(SOUND_SPEED_NXC, SOUND_SPEED_NZC)\n\u001B[0;32m      6\u001B[0m loss_value2 \u001B[38;5;241m=\u001B[39m loss(c_pre, model)\n\u001B[1;32m----> 7\u001B[0m pbar\u001B[38;5;241m.\u001B[39mset_postfix(loss\u001B[38;5;241m=\u001B[39mloss_value2\u001B[38;5;241m.\u001B[39mitem(), lr\u001B[38;5;241m=\u001B[39moptimizer\u001B[38;5;241m.\u001B[39mparam_groups[\u001B[38;5;241m0\u001B[39m][\u001B[38;5;124m\"\u001B[39m\u001B[38;5;124mlr\u001B[39m\u001B[38;5;124m\"\u001B[39m])\n\u001B[0;32m      8\u001B[0m optimizer\u001B[38;5;241m.\u001B[39mzero_grad()\n\u001B[0;32m      9\u001B[0m loss_value2\u001B[38;5;241m.\u001B[39mbackward()\n",
      "\u001B[1;31mKeyboardInterrupt\u001B[0m: "
     ]
    }
   ],
   "execution_count": 12
  },
  {
   "metadata": {},
   "cell_type": "code",
   "outputs": [],
   "execution_count": null,
   "source": "",
   "id": "33ba4bd903005e69"
  }
 ],
 "metadata": {
  "kernelspec": {
   "display_name": "Python 3",
   "language": "python",
   "name": "python3"
  },
  "language_info": {
   "codemirror_mode": {
    "name": "ipython",
    "version": 2
   },
   "file_extension": ".py",
   "mimetype": "text/x-python",
   "name": "python",
   "nbconvert_exporter": "python",
   "pygments_lexer": "ipython2",
   "version": "2.7.6"
  }
 },
 "nbformat": 4,
 "nbformat_minor": 5
}
